{
 "cells": [
  {
   "cell_type": "markdown",
   "id": "16e3afb0",
   "metadata": {},
   "source": [
    "### Agentic AI Chatbot using LangGraph & ReAct Architecture\n",
    "\n",
    "##### LangGraph:\n",
    "\n",
    "Langgraph created by langchain, is a open source AI Agent framework designed to build, deploy & manage complex generative AI Agents workflow.\n",
    "\n",
    "###  ReAct Architecture\n",
    "\n",
    "ReAct = Reasoning + Actions\n",
    "Core idea: \n",
    "1. Think: Agent uses Chain of thought(CoT) prompting to analyze task & generate a reasoning trace\n",
    "2. Act: Agent executes an actions using its tools, based on reasoning\n",
    "3. Observe: Observe a outcome of action\n",
    "4. Adjust: Agent refine its approach based on observations and continuting the process\n",
    "\n",
    "\n",
    "- In this notebook, I built a custome chatbot using ReAct architecture with diffenet tools as follow;\n",
    "    1.  Pretrained LLM Model - GROQ\n",
    "    2.  Arxiv\n",
    "    3.  Wikipedia\n",
    "    4.  Tavily "
   ]
  },
  {
   "cell_type": "code",
   "execution_count": 3,
   "id": "409b9c96",
   "metadata": {},
   "outputs": [],
   "source": [
    "# import necessary library\n",
    "\n",
    "# tools\n",
    "from langchain_community.tools import ArxivQueryRun, WikipediaQueryRun\n",
    "from langchain_community.utilities import ArxivAPIWrapper, WikipediaAPIWrapper"
   ]
  },
  {
   "cell_type": "code",
   "execution_count": null,
   "id": "7bc92d21",
   "metadata": {},
   "outputs": [
    {
     "name": "stdout",
     "output_type": "stream",
     "text": [
      "arxiv\n"
     ]
    }
   ],
   "source": [
    "# Create a tool based on requirement - Call the Arxiv tool\n",
    "arxiv_api_wrapper = ArxivAPIWrapper(top_k_results=2, doc_content_chars_max=500) #create a wrapper with maximum query o/p length 500 and given only top 2 result\n",
    "arxiv = ArxivQueryRun(api_wrapper=arxiv_api_wrapper, description=\"Arxiv Query papers\")\n",
    "print(arxiv.name)"
   ]
  },
  {
   "cell_type": "code",
   "execution_count": 5,
   "id": "cab927a7",
   "metadata": {},
   "outputs": [
    {
     "data": {
      "text/plain": [
       "\"Published: 2017-02-06\\nTitle: Prediction of Kidney Function from Biopsy Images Using Convolutional Neural Networks\\nAuthors: David Ledbetter, Long Ho, Kevin V Lemley\\nSummary: A Convolutional Neural Network was used to predict kidney function in\\npatients with chronic kidney disease from high-resolution digital pathology\\nscans of their kidney biopsies. Kidney biopsies were taken from participants of\\nthe NEPTUNE study, a longitudinal cohort study whose goal is to set up\\ninfrastructure for observing the evolution of 3 forms of idiopathic nephrotic\\nsyndrome, including developing predictors for progression of kidney disease.\\nThe knowledge of future kidney function is desirable as it can identify\\nhigh-risk patients and influence treatment decisions, reducing the likelihood\\nof irreversible kidney decline.\\n\\nPublished: 2019-09-14\\nTitle: 3D Kidneys and Kidney Tumor Semantic Segmentation using Boundary-Aware Networks\\nAuthors: Andriy Myronenko, Ali Hatamizadeh\\nSummary: Automated segmentation of kidneys and kidney tumors is an important step in\\nquantifying the tumor's morphometrical details to monitor the progression of\\nthe disease and accurately compare decisions regarding the kidney tumor\\ntreatment. Manual delineation techniques are often tedious, error-prone and\\nrequire expert knowledge for creating unambiguous representation of kidneys and\\nkidney tumors segmentation. In this work, we propose an end-to-end boundary\\naware fully Convolutional Neural Networks (CNNs) for reliable kidney and kidney\\ntumor semantic segmentation from arterial phase abdominal 3D CT scans. We\\npropose a segmentation network consisting of an encoder-decoder architecture\\nthat specifically accounts for organ and tumor edge information by devising a\\ndedicated boundary branch supervised by edge-aware loss terms. We have\\nevaluated our model on 2019 MICCAI KiTS Kidney Tumor Segmentation Challenge\\ndataset and our method has achieved dice scores of 0.9742 and 0.8103 for kidney\\nand tumor repetitively and an overall composite dice score of 0.8923.\""
      ]
     },
     "execution_count": 5,
     "metadata": {},
     "output_type": "execute_result"
    }
   ],
   "source": [
    "# run the Arxiv tool to search query\n",
    "arxiv.invoke(\"Kidney Disease\")"
   ]
  },
  {
   "cell_type": "code",
   "execution_count": 6,
   "id": "8abe2869",
   "metadata": {},
   "outputs": [
    {
     "data": {
      "text/plain": [
       "'wikipedia'"
      ]
     },
     "execution_count": 6,
     "metadata": {},
     "output_type": "execute_result"
    }
   ],
   "source": [
    "# create and call the wikipedia tool\n",
    "wiki_api_wrapper = WikipediaAPIWrapper(top_k_results=1, doc_content_chars_max=500)\n",
    "wiki = WikipediaQueryRun(api_wrapper=wiki_api_wrapper)\n",
    "wiki.name"
   ]
  },
  {
   "cell_type": "code",
   "execution_count": 7,
   "id": "01409622",
   "metadata": {},
   "outputs": [
    {
     "data": {
      "text/plain": [
       "'Page: Kidney disease\\nSummary: Kidney disease, or renal disease, technically referred to as nephropathy, is damage to or disease of a kidney. Nephritis is an inflammatory kidney disease and has several types according to the location of the inflammation. Inflammation can be diagnosed by blood tests. Nephrosis is non-inflammatory kidney disease. Nephritis and nephrosis can give rise to nephritic syndrome and nephrotic syndrome respectively. Kidney disease usually causes a loss of kidney function t'"
      ]
     },
     "execution_count": 7,
     "metadata": {},
     "output_type": "execute_result"
    }
   ],
   "source": [
    "# Run the wikipedia tool ro search a query\n",
    "wiki.invoke(\"Kidney disease\")"
   ]
  },
  {
   "cell_type": "code",
   "execution_count": 12,
   "id": "d0239dbe",
   "metadata": {},
   "outputs": [],
   "source": [
    "# Load a env to call API's\n",
    "from dotenv import load_dotenv\n",
    "load_dotenv()\n",
    "import os\n",
    "# For real time seach query i used a tavily\n",
    "os.environ[\"TAVILY_API_KEY\"] = os.getenv(\"TAVILY_API_KEY\")\n",
    "os.environ[\"GROQ_API_KEY\"] = os.getenv(\"GROQ_API_KEY\")"
   ]
  },
  {
   "cell_type": "code",
   "execution_count": 13,
   "id": "f3437f25",
   "metadata": {},
   "outputs": [
    {
     "data": {
      "text/plain": [
       "[{'title': 'Kidney Disease News - ScienceDaily',\n",
       "  'url': 'https://www.sciencedaily.com/news/health_medicine/kidney_disease/',\n",
       "  'content': 'Kidney Disease News\\n\\nTop Headlines\\n\\nLatest Headlines\\n\\nEarlier Headlines\\n\\nMonday, December 2, 2024\\n\\nTuesday, November 26, 2024\\n\\nThursday, November 21, 2024\\n\\nMonday, November 18, 2024\\n\\nMonday, October 28, 2024\\n\\nWednesday, October 23, 2024\\n\\nThursday, October 17, 2024\\n\\nThursday, October 3, 2024\\n\\nSunday, September 22, 2024\\n\\nThursday, September 19, 2024\\n\\nWednesday, September 18, 2024\\n\\nThursday, September 12, 2024\\n\\nThursday, September 5, 2024\\n\\nWednesday, September 4, 2024\\n\\nWednesday, August 28, 2024 [...] Monday, August 26, 2024\\n\\nThursday, August 22, 2024\\n\\nWednesday, August 21, 2024\\n\\nMonday, August 19, 2024\\n\\nWednesday, August 14, 2024\\n\\nTuesday, August 6, 2024\\n\\nWednesday, July 10, 2024\\n\\nTuesday, July 9, 2024\\n\\nMonday, July 8, 2024\\n\\nFriday, June 28, 2024\\n\\nTuesday, June 11, 2024\\n\\nTuesday, April 30, 2024\\n\\nMonday, April 8, 2024\\n\\nThursday, February 22, 2024\\n\\nWednesday, February 7, 2024\\n\\nWednesday, January 31, 2024\\n\\nTuesday, January 23, 2024\\n\\nMonday, January 22, 2024\\n\\nWednesday, January 17, 2024 [...] Wednesday, July 19, 2023\\n\\nThursday, July 13, 2023\\n\\nFriday, June 23, 2023\\n\\nTuesday, February 28, 2023\\n\\nSunday, February 5, 2023\\n\\nMonday, January 30, 2023\\n\\nFriday, December 2, 2022\\n\\nWednesday, November 30, 2022\\n\\nWednesday, November 9, 2022\\n\\nTuesday, November 8, 2022\\n\\nMonday, October 31, 2022\\n\\nTuesday, October 25, 2022\\n\\nTuesday, October 18, 2022\\n\\nMonday, October 17, 2022\\n\\nFriday, October 7, 2022\\n\\nTuesday, September 20, 2022\\n\\nFriday, September 16, 2022\\n\\nMonday, September 12, 2022',\n",
       "  'score': 0.86108357},\n",
       " {'title': 'Kidney News - Home - American Society of Nephrology',\n",
       "  'url': 'https://www.asn-online.org/publications/kidneynews/',\n",
       "  'content': \"Latest Issue: Volume 17, Number 4 - April 2025\\n\\nKidney News is available online or downloaded as a PDF. Click the button below to view the latest issue, or browse the archives.\\n\\nView Latest Issue\\n\\nThursday, April 10, 2025 @ 1:32 PM\\n\\nRegistration for the Nephro-Economics 2025: Advancing Kidney Care in a Changing Environment webinar is now open. Join ASN, in collab...\\n\\nread more\\n\\nWednesday, April 09, 2025 @ 9:00 AM [...] Kidney News is your source for information in the kidney world. From workforce trends to scientific advances, the monthly newsmagazine covers news of widespread interest to the kidney community. Look here for how changes in research funding, clinical practice, and the politics of health care will affect your work. Our goal is to pinpoint emerging trends in industry, medicine, and training that will impact practitioners in all avenues of kidney health and disease and to provide more commentary [...] ASN's Mission\\n\\nTo create a world without kidney diseases, the ASN Alliance for Kidney Health elevates care by educating and informing, driving breakthroughs and innovation, and advocating for policies that create transformative changes in kidney medicine throughout the world.\\n\\nContact ASN\\n\\n1401 H St, NW, Ste 900, Washington, DC 20005\\n\\nemail@asn-online.org\\n\\n202-640-4660\\n\\nThe Latest on X\\n\\nKidney News\",\n",
       "  'score': 0.7293082},\n",
       " {'title': 'National Kidney Foundation',\n",
       "  'url': 'https://www.kidney.org/',\n",
       "  'content': 'Join thousands of others across the nation to raise awareness and fund innovation in kidney disease research, advocacy and transplantation.\\n\\nYour walk builds hope for a future without suffering—for every person in this fight.\\n\\nLatest News\\n\\nHouston Doctor Named NKF’s Garabed Eknoyan Award Winner\\n\\nNKF Statement on Mass Staff Terminations at HHS\\n\\nRoger Rodby, MD, Named NKF’s Donald W. Seldin Award Winner\\n\\nNKF Expresses Concern Over Potential Impact on Medicaid and Kidney Patients',\n",
       "  'score': 0.7211353},\n",
       " {'title': 'Kidney diseases - Latest research and news - Nature',\n",
       "  'url': 'https://www.nature.com/subjects/kidney-diseases',\n",
       "  'content': 'Kidney diseases are hereditary and nonhereditary disorders that affect the kidney. Diabetes mellitus and high blood pressure are important risk factors for kidney disease.\\n\\nFeatured\\n\\nAssessing the effect of social and environmental burdens on kidney disease [...] GWAS scorecard prioritizes kidney genes using coding and regulatory variants\\n\\nBased on genome-wide association study data from 2.2\\xa0million individuals, a functional prioritization scorecard integrates classical omics with allele-specific gene expression, chromatin accessibility and gene regulatory circuits in kidney tissues and specific cell types. This approach prioritized 601 kidney function-related genes, including genes associated with nephropathy in mice and humans. [...] GalNAc-T14-associated defects in B cell homing in IgA nephropathy\\n\\nFrom big data to smart decisions: artificial intelligence in kidney risk assessment',\n",
       "  'score': 0.6077801},\n",
       " {'title': 'Chronic Kidney Disease News - Healio',\n",
       "  'url': 'https://www.healio.com/news/nephrology/chronic-kidney-disease',\n",
       "  'content': \"Log in or Sign up for Free to view tailored content for your specialty!\\n\\nTrending\\n\\nHHS pursues theory that autism is linked to a toxin — experts are not so sure\\n\\nChronic Kidney Disease News\\n\\nThyroid cancer with hypoparathyroidism tied to higher risk for several comorbidities\\n\\nAmong adults with thyroid cancer, those with hypoparathyroidism after a thyroidectomy may have increased risk for several complications such as diabetes, hypertension and dyslipidemia, researchers reported. [...] BOSTON — Patients on kidney dialysis reported better adherence to an investigational phosphate-binding agent designed to be smaller, swallowed whole and dosed with fewer pills than available oral therapies, according to survey data.\\n\\nHHS announces intent to phase out synthetic food dyes\\n\\nExperts weigh RFK Jr.’s plan to tell CDC to stop recommending fluoride\\n\\nASTRO's first anal cancer guideline addresses 'complicated’ treatments from ‘holistic’ view\\n\\nSubscribe to Healio Minute emails [...] HHS announces intent to phase out synthetic food dyes\\n\\nExperts weigh RFK Jr.’s plan to tell CDC to stop recommending fluoride\\n\\nASTRO's first anal cancer guideline addresses 'complicated’ treatments from ‘holistic’ view\\n\\nSubscribe to Healio Minute emails\\n\\nPlay on Healio\\n\\nFollow Healio\\n\\nAbout\\n\\nAccount Information\\n\\nContact Us\\n\\nLegal\\n\\nSign Up for Email\\n\\nGet the latest news and education delivered to your inbox\\n\\nUpdate email address\\n\\nThe email address associated with your Healio account is:\",\n",
       "  'score': 0.6058229}]"
      ]
     },
     "execution_count": 13,
     "metadata": {},
     "output_type": "execute_result"
    }
   ],
   "source": [
    "# Tavily search tool\n",
    "from langchain_community.tools.tavily_search import TavilySearchResults\n",
    "tavily = TavilySearchResults()\n",
    "tavily.invoke(\"Latest News about Kidney Disease\")"
   ]
  },
  {
   "cell_type": "code",
   "execution_count": null,
   "id": "f17bdbdb",
   "metadata": {},
   "outputs": [],
   "source": [
    "# Now here combined all tools in list\n",
    "tools = [arxiv, wiki, tavily]"
   ]
  },
  {
   "cell_type": "code",
   "execution_count": 16,
   "id": "78ff905d",
   "metadata": {},
   "outputs": [],
   "source": [
    "# Initialize the LLM Model - GROQ\n",
    "from langchain_groq import ChatGroq\n",
    "llm = ChatGroq(model=\"qwen-qwq-32b\")"
   ]
  },
  {
   "cell_type": "code",
   "execution_count": 17,
   "id": "ec785cc1",
   "metadata": {},
   "outputs": [
    {
     "data": {
      "text/plain": [
       "AIMessage(content=\"\\n<think>\\nOkay, the user is asking how to recover from kidney stone disease. Let me start by recalling what I know about kidney stones. They are hard deposits made of minerals and salts that form inside the kidneys. Common symptoms include severe pain in the side and back, nausea, vomiting, and sometimes blood in the urine. \\n\\nFirst, I should outline the general approach. Treatment usually depends on the size of the stone, the type, and the patient's overall health. Small stones can often pass on their own, while larger ones may need medical intervention like lithotripsy or surgery. But since the user is asking about recovery, maybe they want to know the steps to take after a stone has been passed or treated.\\n\\nI need to mention hydration first because drinking plenty of water is crucial. The standard advice is to aim for 2-3 liters a day, maybe more if they can handle it, to help flush out the kidneys. But I should check if there are any exceptions, like if someone has heart or kidney issues where too much fluid could be harmful. Maybe add a note about consulting a healthcare provider about the right amount.\\n\\nThen, pain management. After passing a stone, there might still be some discomfort. Over-the-counter pain relievers like ibuprofen or acetaminophen can help, but I should remind them to follow dosage instructions and consult a doctor if unsure. Also, rest is important, so advising them to take it easy and avoid strenuous activity initially makes sense.\\n\\nDiet is another key factor. The type of kidney stone can influence dietary recommendations. For example, calcium oxalate stones might require reducing oxalate-rich foods (like spinach, nuts, chocolate) but ensuring adequate dietary calcium to prevent oxalate absorption. Uric acid stones need a low-purine diet (avoiding red meat, organ meats, shellfish). Maybe suggest a low-sodium diet as high sodium can increase calcium in urine. Also, staying away from excessive protein since that can increase uric acid production.\\n\\nLifestyle changes should include regular exercise to improve overall health and possibly reduce the risk of recurrence. Weight management is also important because obesity is a risk factor.\\n\\nPreventing recurrence is crucial. Mentioning that they should work with a healthcare provider to identify the type of stone through analysis. Then specific dietary adjustments and medications if needed, like thiazide diuretics for calcium stones or allopurinol for uric acid stones.\\n\\nMedical follow-up is important too. They should have regular check-ups to monitor kidney function and ensure no residual stones. Maybe an ultrasound or CT scan as needed.\\n\\nAlternative therapies: Some people use herbal remedies or supplements, but I should caution them to check with a doctor first to avoid interactions or kidney strain.\\n\\nWhen to see a doctor: If they experience severe pain, fever, chills (signs of infection), or if they can't pass the stone after a while. Also, if they have chronic conditions like diabetes or hypertension that affect kidney health, close monitoring is necessary.\\n\\nWait, but the user might be asking about the recovery process after treatment. Maybe I should structure it step by step: immediate care, lifestyle changes, medical management, and prevention. Also, note that recovery time varies, but it's important to stay hydrated and follow the doctor's advice.\\n\\nI should also mention the importance of a follow-up appointment to ensure all stones have passed and to discuss prevention strategies. Maybe include some common dietary recommendations but emphasize personalization based on stone analysis.\\n\\nHmm, need to make sure the advice is safe and not giving medical advice beyond general guidelines. Encourage consulting a healthcare provider for personalized plans. Avoid suggesting specific medications without a prescription. Also, clarify that if symptoms persist or worsen, they should see a doctor immediately.\\n\\nLet me organize this into sections for clarity: hydration, pain management, diet, lifestyle, medical follow-up, and when to seek help. That way the user can go through each part systematically. Also, maybe a note on emotional stress and the importance of mental health during recovery.\\n\\nWait, are there any common mistakes people make during recovery? Maybe not drinking enough, or following an incorrect diet. Stress can affect recovery, so managing stress might be helpful. Also, some people might take supplements without checking, like calcium supplements if they have oxalate stones, which could be problematic. Need to mention avoiding that.\\n\\nAlso, the timeframe for recovery depends on the severity. Small stones might resolve in a few days to weeks. Larger stones treated with procedures might take longer. So it's variable, so advising patience and following medical advice.\\n\\nI think that covers the main points. Now, present it in a clear, step-by-step manner without using markdown. Make sure each section is concise and actionable. End with a reminder to consult a healthcare provider for personalized advice.\\n</think>\\n\\nRecovering from kidney stone disease involves a combination of medical guidance, lifestyle adjustments, and proactive care. Here’s a structured approach to help with recovery and reduce recurrence:\\n\\n### 1. **Stay Hydrated**\\n   - **Drink plenty of fluids**: Aim for **2–3 liters (about 8–10 glasses) of water daily** to flush out the urinary system. Your doctor may recommend even more, depending on your health.\\n   - **Electrolyte drinks**: Consider diluted lemonade or cranberry juice (in moderation) as citrate in these can help prevent stone formation.\\n   - **Avoid dehydration triggers**: Limit caffeine and alcohol, which can dehydrate.\\n\\n### 2. **Manage Pain and Symptoms**\\n   - **Pain relief**: Use OTC pain relievers like ibuprofen or acetaminophen (follow dosage instructions). For severe pain, your doctor may prescribe stronger medication.\\n   - **Rest**: Take breaks from strenuous activity to allow the body to heal.\\n\\n### 3. **Dietary Adjustments**\\n   - **Personalized diet**: Work with a healthcare provider or dietitian to tailor your diet based on the stone type:\\n     - **Calcium oxalate stones**: Reduce oxalate-rich foods (spinach, nuts, beets) but maintain adequate dietary calcium (don’t avoid calcium entirely).\\n     - **Uric acid stones**: Limit high-purine foods (red meat, organ meats, shellfish) and increase fruits/vegetables.\\n     - **Struvite/calcium phosphate stones**: Reduce sodium intake.\\n   - **Limit salt**: High sodium intake increases calcium excretion.\\n   - **Moderate protein**: Excess protein can elevate uric acid and calcium levels.\\n   - **Increase fiber**: Aids in reducing stone-forming substances.\\n\\n### 4. **Medical Follow-Up**\\n   - **Stone analysis**: Ensure your stone is analyzed to identify type, guiding prevention strategies.\\n   - **Regular check-ups**: Monitor kidney function and ensure no residual stones via imaging (e.g., X-ray or ultrasound).\\n   - **Medications**: Your doctor might prescribe drugs like thiazide diuretics (for calcium stones), allopurinol (for uric acid stones), or potassium citrate to alkalinize urine.\\n\\n### 5. **Lifestyle Changes**\\n   - **Exercise**: Engage in regular, moderate activity (e.g., walking) to improve circulation and reduce stress.\\n   - **Weight management**: Maintain a healthy weight, as obesity increases recurrence risk.\\n   - **Avoid smoking**: Smoking can worsen kidney health and stone formation.\\n\\n### 6. **Monitor Symptoms and Seek Help**\\n   - **When to contact a doctor**:\\n     - Severe, persistent pain despite pain relief.\\n     - Signs of infection (fever, chills).\\n     - Difficulty urinating or blood in urine lasting more than a few days.\\n     - Recurrent stones or chronic symptoms.\\n\\n### 7. **Preventive Measures**\\n   - **Track symptoms and diet**: Keep a diary of fluid intake, diet, and symptoms to identify triggers.\\n   - **Avoid fad diets/supplements**: Some supplements (e.g., vitamin C, calcium) can worsen stones if not monitored.\\n\\n### 8. **Emotional Well-Being**\\n   - **Manage stress**: Stress can indirectly impact kidney health. Practices like meditation or yoga may help.\\n\\n### Recovery Timeline:\\n- Small stones may pass within days to weeks. Recovery from medical procedures (e.g., lithotripsy) may take 1–2 weeks, but this varies based on treatment and individual health.\\n\\n### Key Takeaway:\\nRecovery is individualized. Always consult your healthcare provider for a tailored plan, especially regarding medication and diet. Prevention is critical—adhering to a personalized strategy can significantly reduce recurrence risk.\\n\\nIf you experience sudden severe pain, inability to urinate, or signs of infection, seek immediate medical attention.\", additional_kwargs={}, response_metadata={'token_usage': {'completion_tokens': 1794, 'prompt_tokens': 17, 'total_tokens': 1811, 'completion_time': 4.383805692, 'prompt_time': 0.003101418, 'queue_time': 0.0014956760000000005, 'total_time': 4.38690711}, 'model_name': 'qwen-qwq-32b', 'system_fingerprint': 'fp_fbb7e6cc39', 'finish_reason': 'stop', 'logprobs': None}, id='run-e96664d0-b891-436d-a68b-0321c9a43739-0', usage_metadata={'input_tokens': 17, 'output_tokens': 1794, 'total_tokens': 1811})"
      ]
     },
     "execution_count": 17,
     "metadata": {},
     "output_type": "execute_result"
    }
   ],
   "source": [
    "llm.invoke(\"Tell me to recover kidney stone disease\")"
   ]
  },
  {
   "cell_type": "code",
   "execution_count": null,
   "id": "905e7f4a",
   "metadata": {},
   "outputs": [
    {
     "data": {
      "text/plain": [
       "AIMessage(content='', additional_kwargs={'tool_calls': [{'id': 'call_cc2h', 'function': {'arguments': '{\"query\": \"kidney disease types\"}', 'name': 'wikipedia'}, 'type': 'function'}]}, response_metadata={'token_usage': {'completion_tokens': 484, 'prompt_tokens': 360, 'total_tokens': 844, 'completion_time': 1.206675376, 'prompt_time': 0.04739257, 'queue_time': 0.146149208, 'total_time': 1.254067946}, 'model_name': 'qwen-qwq-32b', 'system_fingerprint': 'fp_07cd5d759a', 'finish_reason': 'tool_calls', 'logprobs': None}, id='run-d2c7482f-d99d-4ba0-856e-2e6cebe4e4ab-0', tool_calls=[{'name': 'wikipedia', 'args': {'query': 'kidney disease types'}, 'id': 'call_cc2h', 'type': 'tool_call'}], usage_metadata={'input_tokens': 360, 'output_tokens': 484, 'total_tokens': 844})"
      ]
     },
     "execution_count": 18,
     "metadata": {},
     "output_type": "execute_result"
    }
   ],
   "source": [
    "# Bind the llm model with tools\n",
    "llm_tools = llm.bind_tools(tools=tools)\n",
    "\n",
    "# Execute the llm_tools and serach the particulaer query\n",
    "llm_tools.invoke(\"Tell me about kidney disease and what are different type of it\")\n",
    "\n",
    "# As you can see in out here Wikipedia tool is call to answer the query"
   ]
  },
  {
   "cell_type": "code",
   "execution_count": null,
   "id": "303c651d",
   "metadata": {},
   "outputs": [
    {
     "data": {
      "text/plain": [
       "AIMessage(content='', additional_kwargs={'tool_calls': [{'id': 'call_7p3b', 'function': {'arguments': '{\"query\": \"latest news on kidney disease\"}', 'name': 'tavily_search_results_json'}, 'type': 'function'}]}, response_metadata={'token_usage': {'completion_tokens': 176, 'prompt_tokens': 358, 'total_tokens': 534, 'completion_time': 0.431349259, 'prompt_time': 0.027557384, 'queue_time': 0.003246541999999998, 'total_time': 0.458906643}, 'model_name': 'qwen-qwq-32b', 'system_fingerprint': 'fp_a91d9c2cfb', 'finish_reason': 'tool_calls', 'logprobs': None}, id='run-56b32d5a-e114-42e7-afe0-65d2ae7cbf54-0', tool_calls=[{'name': 'tavily_search_results_json', 'args': {'query': 'latest news on kidney disease'}, 'id': 'call_7p3b', 'type': 'tool_call'}], usage_metadata={'input_tokens': 358, 'output_tokens': 176, 'total_tokens': 534})"
      ]
     },
     "execution_count": 19,
     "metadata": {},
     "output_type": "execute_result"
    }
   ],
   "source": [
    "llm_tools.invoke(\"Tell me about latest news of Kidney disease?\")\n",
    "\n",
    "# Tavily tool is call to answer the above question"
   ]
  },
  {
   "cell_type": "markdown",
   "id": "bb8d0aef",
   "metadata": {},
   "source": [
    "### Workflow"
   ]
  },
  {
   "cell_type": "code",
   "execution_count": null,
   "id": "2848d949",
   "metadata": {},
   "outputs": [],
   "source": [
    "# Create a workflow \n",
    "from typing_extensions import TypedDict\n",
    "from langchain_core.messages import AnyMessage  #Human Message or AI Message\n",
    "from typing import Annotated  #For labeling\n",
    "from langgraph.graph.message import add_messages  #Reducers in langgraph"
   ]
  },
  {
   "cell_type": "code",
   "execution_count": 21,
   "id": "7e796b91",
   "metadata": {},
   "outputs": [],
   "source": [
    "# Create a state to handle messgae or query\n",
    "class State(TypedDict):\n",
    "    messages: Annotated[list[AnyMessage], add_messages]\n",
    "# so here created a list of any message(either human message or AI message)"
   ]
  },
  {
   "cell_type": "code",
   "execution_count": 22,
   "id": "10482079",
   "metadata": {},
   "outputs": [],
   "source": [
    "# For final chatbot create, require 3 different node and then created a edges between them \n",
    "# 1. START 2. AI Assistant 3. END\n",
    "\n",
    "# AI Assitant include a LLM model and tools so basically LLM model and tools interact with each other to take particluer action\n",
    "\n",
    "# Design chatbot with LangGraph\n",
    "from IPython.display import Image,display\n",
    "from langgraph.graph import StateGraph, START, END\n",
    "from langgraph.prebuilt import ToolNode\n",
    "from langgraph.prebuilt import tools_condition "
   ]
  },
  {
   "cell_type": "code",
   "execution_count": 33,
   "id": "1ca64d4d",
   "metadata": {},
   "outputs": [
    {
     "data": {
      "image/png": "[encoded data removed]",
      "text/plain": [
       "<IPython.core.display.Image object>"
      ]
     },
     "metadata": {},
     "output_type": "display_data"
    }
   ],
   "source": [
    "# Define a Node\n",
    "def tool_calling_llm(state: State):\n",
    "    return {\"messages\" : [llm_tools.invoke(state[\"messages\"])]}\n",
    "\n",
    "\n",
    "# Build a graph\n",
    "# Add a node\n",
    "graphBuilder = StateGraph(State)\n",
    "graphBuilder.add_node(\"tool_calling_llm\", tool_calling_llm)\n",
    "graphBuilder.add_node(\"tools\", ToolNode(tools))\n",
    "\n",
    "# Add edges between nodes\n",
    "graphBuilder.add_edge(START,\"tool_calling_llm\")\n",
    "graphBuilder.add_conditional_edges(\"tool_calling_llm\", tools_condition,)\n",
    "# If output from the assistant is tool call --> tools_condition route to tool\n",
    "# If output from the assistant is not tool call --> tools_condition route to END\n",
    "graphBuilder.add_edge(\"tools\", END)\n",
    "\n",
    "# Compile all node and edges\n",
    "graph = graphBuilder.compile()\n",
    "\n",
    "# Display the graph\n",
    "display(Image(graph.get_graph().draw_mermaid_png()))"
   ]
  },
  {
   "cell_type": "code",
   "execution_count": 36,
   "id": "ad0c0d93",
   "metadata": {},
   "outputs": [
    {
     "name": "stdout",
     "output_type": "stream",
     "text": [
      "================================\u001b[1m Human Message \u001b[0m=================================\n",
      "\n",
      "1706.03762\n",
      "==================================\u001b[1m Ai Message \u001b[0m==================================\n",
      "Tool Calls:\n",
      "  arxiv (call_50q6)\n",
      " Call ID: call_50q6\n",
      "  Args:\n",
      "    query: 1706.03762\n",
      "=================================\u001b[1m Tool Message \u001b[0m=================================\n",
      "Name: arxiv\n",
      "\n",
      "Published: 2023-08-02\n",
      "Title: Attention Is All You Need\n",
      "Authors: Ashish Vaswani, Noam Shazeer, Niki Parmar, Jakob Uszkoreit, Llion Jones, Aidan N. Gomez, Lukasz Kaiser, Illia Polosukhin\n",
      "Summary: The dominant sequence transduction models are based on complex recurrent or\n",
      "convolutional neural networks in an encoder-decoder configuration. The best\n",
      "performing models also connect the encoder and decoder through an attention\n",
      "mechanism. We propose a new simple network architecture, the Transformer, based\n",
      "solely on attention mechanisms, dispensing with recurrence and convolutions\n",
      "entirely. Experiments on two machine translation tasks show these models to be\n",
      "superior in quality while being more parallelizable and requiring significantly\n",
      "less time to train. Our model achieves 28.4 BLEU on the WMT 2014\n",
      "English-to-German translation task, improving over the existing best results,\n",
      "including ensembles by over 2 BLEU. On the WMT 2014 English-to-French\n",
      "translation task, our model establishes a new single-model state-of-the-art\n",
      "BLEU score of 41.8 after training for 3.5 days on eight GPUs, a small fraction\n",
      "of the training costs of the best models from the literature. We show that the\n",
      "Transformer generalizes well to other tasks by applying it successfully to\n",
      "English constituency parsing both with large and limited training data.\n"
     ]
    }
   ],
   "source": [
    "messages1 = graph.invoke({\"messages\":\"1706.03762\"})\n",
    "for mes in messages1[\"messages\"]:\n",
    "    mes.pretty_print()\n"
   ]
  },
  {
   "cell_type": "markdown",
   "id": "59cc92e3",
   "metadata": {},
   "source": [
    "#### Observation: \n",
    "Here I passed query as reserach paper number\n",
    "\n",
    "Human message: Reserach paper number\\\n",
    "Pass to AI Assistant <--> Interact with tools Arxiv : AI Message\\\n",
    "Output: Get the informations abour Paper"
   ]
  },
  {
   "cell_type": "code",
   "execution_count": 38,
   "id": "182e3f1f",
   "metadata": {},
   "outputs": [
    {
     "name": "stdout",
     "output_type": "stream",
     "text": [
      "================================\u001b[1m Human Message \u001b[0m=================================\n",
      "\n",
      "Hello, My selft Radha, How are you\n",
      "==================================\u001b[1m Ai Message \u001b[0m==================================\n",
      "\n",
      "Hello Radha! I'm doing well, thank you for asking! How can I assist you today?\n"
     ]
    }
   ],
   "source": [
    "messages = graph.invoke({\"messages\":\"Hello, My selft Radha, How are you\"})\n",
    "for m in messages[\"messages\"]:\n",
    "    m.pretty_print() "
   ]
  },
  {
   "cell_type": "markdown",
   "id": "0afa6169",
   "metadata": {},
   "source": [
    "#### Observation: \n",
    "\n",
    "Human message: Hello, My selft Radha, How are you\\\n",
    "Pass to AI Assistant <--> Interact with LLM model : AI Message\\\n",
    "Output: Get result from LLM model\n",
    "\n",
    "So, here I get the direct response from the LLM model, there is no interaction with any tools"
   ]
  },
  {
   "cell_type": "code",
   "execution_count": 41,
   "id": "38425186",
   "metadata": {},
   "outputs": [
    {
     "data": {
      "image/png": "[encoded data removed]",
      "text/plain": [
       "<IPython.core.display.Image object>"
      ]
     },
     "metadata": {},
     "output_type": "display_data"
    }
   ],
   "source": [
    "# Define a Node\n",
    "def tool_calling_llm(state: State):\n",
    "    return {\"messages\" : [llm_tools.invoke(state[\"messages\"])]}\n",
    "\n",
    "\n",
    "# Build a graph\n",
    "# Add a node\n",
    "graphBuilder = StateGraph(State)\n",
    "graphBuilder.add_node(\"tool_calling_llm\", tool_calling_llm)\n",
    "graphBuilder.add_node(\"tools\", ToolNode(tools))\n",
    "\n",
    "# Add edges between nodes\n",
    "graphBuilder.add_edge(START,\"tool_calling_llm\")\n",
    "graphBuilder.add_conditional_edges(\"tool_calling_llm\", tools_condition,)\n",
    "# If output from the assistant is tool call --> tools_condition route to tool\n",
    "# If output from the assistant is not tool call --> tools_condition route to END\n",
    "graphBuilder.add_edge(\"tools\", \"tool_calling_llm\")\n",
    "graphBuilder.add_edge(\"tools\", END)\n",
    "\n",
    "# Compile all node and edges\n",
    "graph1 = graphBuilder.compile()\n",
    "\n",
    "# Display the graph\n",
    "display(Image(graph.get_graph().draw_mermaid_png()))"
   ]
  },
  {
   "cell_type": "code",
   "execution_count": 42,
   "id": "53994cc5",
   "metadata": {},
   "outputs": [
    {
     "name": "stdout",
     "output_type": "stream",
     "text": [
      "================================\u001b[1m Human Message \u001b[0m=================================\n",
      "\n",
      "Tell me about latest news reagrding healthcare\n",
      "==================================\u001b[1m Ai Message \u001b[0m==================================\n",
      "Tool Calls:\n",
      "  tavily_search_results_json (call_67e2)\n",
      " Call ID: call_67e2\n",
      "  Args:\n",
      "    query: latest news regarding healthcare\n",
      "=================================\u001b[1m Tool Message \u001b[0m=================================\n",
      "Name: tavily_search_results_json\n",
      "\n",
      "[{\"title\": \"Health & Pharma News | Latest Healthcare Stories - Reuters\", \"url\": \"https://www.reuters.com/business/healthcare-pharmaceuticals/\", \"content\": \"US measles battle hindered by confusion over health secretary response. Gene therapy loses luster as investors eye quicker returns from weight-loss drugs.\", \"score\": 0.6934942}, {\"title\": \"The Latest News on Health Care\", \"url\": \"https://www.usnews.com/topics/subjects/health-care\", \"content\": \"Health Care · Is RFK Jr. Making an 'Autism Registry'? · Trump's Executive Orders On Trial. Several of Trump's executive orders are facing legal challenges.\", \"score\": 0.6557114}, {\"title\": \"Healthcare News\", \"url\": \"https://www.news-medical.net/category/Healthcare-News.aspx\", \"content\": \"Top Health Categories\\n\\n×Top Health Categories\\n\\nHealthcare News\\n\\nTelehealth in pediatric primary care linked to responsible antibiotic use\\n\\nChildren treated with primary care telehealth visits were less likely to receive antibiotics for acute respiratory tract infections than those examined in person, according to a new study.\\n\\nWHO urges renewed global effort to end malaria [...] Scalable, Smart, and Accessible: The Future of Lab Automation\\n\\nRoya Amini-Naieni\\n\\n\\n\\nHealthy Beginnings, Hopeful Futures: A Conversation with WHO’s Dr. Allotey\\n\\nDr. Allotey\\n\\nDr. Pascale Allotey advocates for comprehensive maternal health policies, stressing the importance of women's voices in shaping effective healthcare solutions.\\n\\nLatest News\\n\\nMedical Links\\n\\nLife Sciences Links\\n\\nOther Useful Links\\n\\nOther AZoNetwork Sites [...] Congress returns from spring break next week and will get to work crafting a bill that would cut taxes and boost immigration enforcement — but that also could cut at least $880 billion over the next decade from a pool of funding that includes Medicaid.\\n\\nSimple intervention during ER visits lowers blood pressure long term\", \"score\": 0.6399392}, {\"title\": \"Healthcare Dive: Healthcare and Health IT News\", \"url\": \"https://www.healthcaredive.com/\", \"content\": \"Don't miss tomorrow's healthcare industry news\\n\\nLet Healthcare Dive's free newsletter keep you informed, straight from your inbox.\\n\\n\\n\\nCentene raises outlook for revenue — and costs — in 2025\\n\\nCentene’s first-quarter results didn’t appear to quell investor concerns about volatility in the health insurance market.\\n                                        Read more\\n                                            ➔\\n\\nTop stories\\n\\nTop Republican calls for 340B reform in long-awaited investigation [...] Novant has sold its minority stake in HealthTeam Advantage back to Cone Health, which is focusing on growing its insurance offerings.\\n\\nHHS layoffs may be illegal, legal experts say\\n\\nThe federal health department sidestepped normal procedures as it laid off 10,000 employees, according to sources. One union has already filed an internal complaint, while at least two law firms are exploring suits.\\n\\nUnitedHealth to enter mediation with DOJ over Amedisys deal [...] UNM Hospital slashes executive roles amid uncertainties in Washington\\n\\nCHS emphasizes divestitures, strong volumes in Q1 earnings\\n\\nMolina reports mixed Q1, says Medicaid rates are increasing\\n\\nData breach at Yale New Haven Health impacts 5.6M people\\n\\nThe Latest\\n\\nUNC Health CEO to step down\\n\\nWesley Burks’ last day will be Sept. 1. The health system has not yet named a permanent successor.\\n\\nBlue Shield of California exposed data of 4.7M people to Google\", \"score\": 0.62742686}, {\"title\": \"Health Care - NBC News\", \"url\": \"https://www.nbcnews.com/health/health-care\", \"content\": \"They were told to get extra breast cancer screenings. Then they got stuck with the bill.\\n\\nCancer\\n\\nmRNA vaccines show promise against pancreatic cancer in early trial\\n\\nHealth news\\n\\nAn ice rink to fight the opioid crisis? Some regrets over settlement cash spending\\n\\nElections\\n\\nSen. Bill Cassidy sided with Trump on RFK Jr., but he still faces a tough primary race\\n\\nHealth news\\n\\nNIH cuts could stall medical progress for lifesaving treatments, experts say\\n\\nLive Updates [...] In rural Louisiana, Speaker Mike Johnson's constituents fear potential Medicaid cuts\\n\\nHealth news\\n\\nSome CT scans may have too much radiation, researchers say\\n\\nU.S. news\\n\\nUnpaid claims and coverage gaps: Changes to the military's health care program are causing disruptions\\n\\nHealth news\\n\\nWho does Medicaid cover? How Congress' proposed budget cuts could be felt\\n\\nU.S. news\\n\\nSenior citizens rattled by news that Medicare telehealth coverage could expire next month\\n\\nHealth Care [...] Health news\\n\\nWeight loss drugs may be up for Medicare price negotiations\\n\\nInvestigations\\n\\nPrivate equity reduces patient care while enriching investors, Senate report finds\\n\\nHealth Care\\n\\n'It doesn't make sense': Why millions of children have lost their health insurance\\n\\nInvestigations\\n\\n'Would he have lived?' When insurance companies deny cancer care to patients\\n\\nHealth news\\n\\nMedicare's $2,000 prescription drug cap expected to bring major relief to cancer patients\\n\\nHealth Care\", \"score\": 0.6194488}]\n",
      "==================================\u001b[1m Ai Message \u001b[0m==================================\n",
      "\n",
      "Here’s a summary of the latest healthcare news from reputable sources:\n",
      "\n",
      "### 1. **Medicaid Funding and Policy Changes**  \n",
      "   - **Budget Cuts**: Proposed federal budget cuts could reduce funding by up to $880 billion over a decade, impacting Medicaid programs that cover millions of Americans. This has raised concerns about reduced access to healthcare for low-income families and disabled individuals.  \n",
      "   - **Political Debates**: Congress continues debating potential cuts, with implications for programs like Medicaid and Medicare telehealth coverage (some Medicare beneficiaries fear losing access to virtual care services).  \n",
      "\n",
      "### 2. **Healthcare Accessibility and Equity**  \n",
      "   - **Medicare Drug Caps**: Medicare’s $2,000 annual cap on insulin costs is providing relief to diabetes patients, while negotiations for broader prescription drug price caps (including weight-loss and cancer drugs) are ongoing.  \n",
      "   - **Insurance Gaps**: Reports highlight cases where insurance companies denied life-saving cancer treatments, sparking calls for stricter oversight.  \n",
      "\n",
      "### 3. **Healthcare Industry Challenges**  \n",
      "   - **Data Breaches**: Yale New Haven Health disclosed a data breach affecting **5.6 million people**, exposing sensitive patient information.  \n",
      "   - **Private Equity Criticism**: A Senate report alleges private equity firms prioritize profits over patient care, cutting staff and services in hospitals they acquire.  \n",
      "\n",
      "### 4. **Emerging Medical Trends**  \n",
      "   - **Gene Therapy vs. Weight-Loss Drugs**: Investors are shifting focus from gene therapy to weight-loss drugs (e.g., Ozempic) due to faster ROI, potentially slowing progress in genetic medicine.  \n",
      "   - **Telehealth in Pediatrics**: A study found that telehealth visits for children reduced unnecessary antibiotic use for respiratory infections.  \n",
      "\n",
      "### 5. **Policy and Governance**  \n",
      "   - **HHS Layoffs**: The Department of Health and Human Services faced criticism for improper layoffs of ~10,000 workers, with legal challenges ongoing.  \n",
      "   - **State-Level Actions**: Some states are expanding mental health resources, while others face backlash for restricting transgender youth healthcare access.  \n",
      "\n",
      "### Key Takeaways:  \n",
      "- **Cuts to federal funding** threaten Medicaid and Medicare services, affecting vulnerable populations.  \n",
      "- **Telehealth and drug pricing reforms** are shaping both clinical care and policy debates.  \n",
      "- **Data security and equity issues** remain urgent concerns for patients and providers.  \n",
      "\n",
      "Let me know if you’d like deeper insights on any specific topic!\n"
     ]
    }
   ],
   "source": [
    "messages = graph1.invoke({\"messages\":\"Tell me about latest news reagrding healthcare\"})\n",
    "for m in messages[\"messages\"]:\n",
    "    m.pretty_print() "
   ]
  },
  {
   "cell_type": "markdown",
   "id": "ba45c9c9",
   "metadata": {},
   "source": [
    "#### Observation: \n",
    "\n",
    "Human message: Hello, My selft Radha, How are you\\\n",
    "Pass to AI Assistant <--> Interact with Tavily tool : AI Message\\\n",
    "Tool message --> Pass output to AI assistant \\\n",
    "Final Output --> Get the final AI output then END the bot\n"
   ]
  },
  {
   "cell_type": "code",
   "execution_count": 43,
   "id": "d609275a",
   "metadata": {},
   "outputs": [
    {
     "name": "stdout",
     "output_type": "stream",
     "text": [
      "================================\u001b[1m Human Message \u001b[0m=================================\n",
      "\n",
      "Tell me about latest news reagrding healthcare and then provide me latest reserach paper on healthcare sector\n",
      "==================================\u001b[1m Ai Message \u001b[0m==================================\n",
      "Tool Calls:\n",
      "  tavily_search_results_json (call_j3c9)\n",
      " Call ID: call_j3c9\n",
      "  Args:\n",
      "    query: latest news regarding healthcare 2024\n",
      "  arxiv (call_zb8b)\n",
      " Call ID: call_zb8b\n",
      "  Args:\n",
      "    query: healthcare sector recent research papers\n",
      "=================================\u001b[1m Tool Message \u001b[0m=================================\n",
      "Name: tavily_search_results_json\n",
      "\n",
      "[{\"title\": \"2025 global health care outlook | Deloitte Insights\", \"url\": \"https://www2.deloitte.com/us/en/insights/industry/health-care/life-sciences-and-health-care-industry-outlooks/2025-global-health-care-executive-outlook.html\", \"content\": \"Adam Ang, “Malaysian primary care giant CareClinics partners with HIMSS for digital transformation,” Healthcare IT News, Sept. 13, 2024.\\n\\nAdam Ang, “IHH Healthcare migrates Malaysia, S'pore database systems to cloud,” Healthcare IT News, April 21, 2024.\\n\\nInternational Trade Administration, U.S. Department of Commerce, “Japan medical digital transformation,” Sept. 17,  2024.\\n\\nBakul Patel, “Supporting India’s digital health transformation,” Google News, Oct. 3, 2024. [...] Endnotes\\n\\nOrganisation for Economic Co-operation and Development, “Health spending,” accessed Jan. 13, 2025.\\n\\nKatie Palmer, “Generative AI is transforming radiology, and it’s only the beginning,” STAT, Dec. 6, 2024.\\n\\nDeloitte Global, “Trust in the era of generative AI,” August 21, 2024.\\n\\nDr. Chinta Sidharthan, “FDA strengthens AI regulation to ensure patient safety and innovation in healthcare,” News Medical, Oct. 16, 2024. [...] Healthcare Asia Magazine, “NABH launches preliminary standards for HIS, EMR systems; seeks feedback,” Medical Buyer, July 24, 2024.\\n\\nMinistry of Health of the Republic of Indonesia, “Blueprint for digital health transformation strategy 2024 for Indonesia”.\\n\\nAsthma and Allergy Foundation of America, “Climate change and health,” accessed Jan. 13, 2025.\\n\\nCenters for Disease Control and Prevention, “Vector-borne diseases,” March 2, 2024.\", \"score\": 0.9008183}, {\"title\": \"Top public health news stories 2024 | The Nation's Health\", \"url\": \"https://www.thenationshealth.org/content/top-public-health-news-stories-2024\", \"content\": \"Main menu\\n\\nUser menu\\n\\nSearch\\n\\nAdvanced Search\\n\\nTop public health news stories 2024\\n\\nPublic health professionals were interested in health care access, Supreme Court decisions impacting public health, uses of AI and other breaking public health news in 2024. They also read and shared stories from our June special section on improving health outcomes for people with intellectual and developmental disabilities.\\n\\nBrowse and share our most-read news stories of the year: [...] 6. More programs offering low-cost, reliable transportation for health care visits\\nTransportation barriers continue to be a leading social determinant of health, impacting everything from access to health care to getting good jobs and obtaining healthy food. [...] 2. Health care access improving for people with IDD, but gaps remain\\nPeople with intellectual and developmental disabilities experience many disparate health outcomes, including fewer preventive screenings, more complications during pregnancy and lower life expectancy. Health professionals are working to address them.\", \"score\": 0.8396422}]\n",
      "=================================\u001b[1m Tool Message \u001b[0m=================================\n",
      "Name: arxiv\n",
      "\n",
      "Published: 2021-01-16\n",
      "Title: AR-based Modern Healthcare: A Review\n",
      "Authors: Jinat Ara, Hanif Bhuiyan, Yeasin Arafat Bhuiyan, Salma Begum Bhyan, Muhammad Ismail Bhuiyan\n",
      "Summary: The recent advances of Augmented Reality (AR) in healthcare have shown that\n",
      "technology is a significant part of the current healthcare system. In recent\n",
      "days, augmented reality has proposed numerous smart applications in healthcare\n",
      "domain including wearable access, telemedicine, remote surgery, diagnosis of\n",
      "medical reports, emergency medicine, etc. The aim of the developed augmented\n",
      "healthcare application is to improve patient care, increase efficiency, and\n",
      "decrease costs. This article puts on an effort to review the advances in\n",
      "AR-based healthcare technologies and goes to peek into the strategies that are\n",
      "being taken to further this branch of technology. This article explores the\n",
      "important services of augmented-based healthcare solutions and throws light on\n",
      "recently invented ones as well as their respective platforms. It also addresses\n",
      "concurrent concerns and their relevant future challenges. In addition, this\n",
      "paper analyzes distinct AR security and privacy including security requirements\n",
      "and attack terminologies. Furthermore, this paper proposes a security model to\n",
      "minimize security risks. Augmented reality advantages in healthcare, especially\n",
      "for operating surgery, emergency diagnosis, and medical training is being\n",
      "demonstrated here thorough proper analysis. To say the least, the article\n",
      "illustrates a complete overview of augmented reality technology in the modern\n",
      "healthcare sector by demonstrating its impacts, advancements, current\n",
      "vulnerabilities; future challenges, and concludes with recommendations to a new\n",
      "direction for further research.\n",
      "\n",
      "Published: 2021-02-05\n",
      "Title: Recent Development in Disease Diagnosis by Information, Communication and Technology\n",
      "Authors: Shabana Urooj, Astha Sharma, Chitransh Sinha, Fadwa Alrowais\n",
      "Summary: The usage of Information, Communication and Technology (ICT) in health sector\n",
      "has a great potential in improving the health of individuals and communities,\n",
      "disease detection, prevention and overall strengthening the healthcare systems,\n",
      "vital for development and poverty reduction. Large ICT establishments offer a\n",
      "variety of Artificial Intelligence (AI) based solutions; and their tenacities\n",
      "are inclusive of wearable therapeutic devices, healthcare management\n",
      "arrangements, extrapolative healthcare diagnostics, ailment prevention systems,\n",
      "detection and screening of diseases and automated tactics. In the field of\n",
      "healthcare related instrumentation, AI plays a prevalent role with the\n",
      "amalgamation of several technological progressions. This enables machines to\n",
      "sense, comprehend, act and learn to perform organisational and clinical\n",
      "healthcare functions as well as serves the research and training purposes.\n",
      "Additionally, it enables to accomplish the anticipated directorial and\n",
      "medicinal benefits. The major causes of life threats reported in literature\n",
      "are; heart and brain diseases. In this paper, an extensive review is presented\n",
      "exploring the evolving ICT technologies in machine learning and AI to help ICT\n",
      "enthusiasts to be able to catch up with the emerging trends in healthcare.\n",
      "==================================\u001b[1m Ai Message \u001b[0m==================================\n",
      "\n",
      "Here’s the information based on the tools provided:\n",
      "\n",
      "---\n",
      "\n",
      "### **Latest News on Healthcare (2024)**  \n",
      "Key updates from recent sources include:  \n",
      "1. **Global Healthcare Digital Transformation**:  \n",
      "   - Malaysia’s CareClinics and IHH Healthcare are migrating to cloud-based systems to enhance digital infrastructure.  \n",
      "   - India and Indonesia are prioritizing digital health strategies, including AI integration and cloud migration.  \n",
      "   - The FDA has updated AI regulations to balance innovation with patient safety.  \n",
      "2. **AI in Healthcare**:  \n",
      "   - Generative AI is revolutionizing radiology and diagnostics, though trust in AI tools remains a focus (Deloitte, 2024).  \n",
      "3. **Health Equity**:  \n",
      "   - Programs offering low-cost transportation are expanding to address healthcare access barriers.  \n",
      "   - Gaps in care for people with intellectual/developmental disabilities persist, with efforts to improve preventive care and screenings.  \n",
      "\n",
      "---\n",
      "\n",
      "### **Recent Research Papers on Healthcare (from ArXiv, but note the papers are from 2021)**  \n",
      "The ArXiv tool returned these older papers (note that ArXiv may not always index the most recent healthcare papers, as its focus is often on computer science and AI applications):  \n",
      "1. **\"AR-based Modern Healthcare: A Review\"** (2021)  \n",
      "   - Explores **augmented reality (AR) in healthcare**, including applications in surgery, emergency care, and medical training. Highlights privacy/security challenges in AR systems.  \n",
      "2. **\"Recent Development in Disease Diagnosis by ICT\"** (2021)  \n",
      "   - Focuses on **AI and ICT in disease detection**, particularly for heart/brain diseases. Discusses wearables, machine learning, and diagnostic tools.  \n",
      "\n",
      "---\n",
      "\n",
      "### **Note**:  \n",
      "- The news results (via Tavily) are up-to-date (2024), but the research papers from ArXiv are from 2021. For the most recent research (2024), consider checking databases like PubMed, Google Scholar, or clinicaltrials.gov directly.  \n",
      "\n",
      "Let me know if you'd like help refining the search!\n"
     ]
    }
   ],
   "source": [
    "messages = graph1.invoke({\"messages\":\"Tell me about latest news reagrding healthcare and then provide me latest reserach paper on healthcare sector\"})\n",
    "for m in messages[\"messages\"]:\n",
    "    m.pretty_print() "
   ]
  }
 ],
 "metadata": {
  "kernelspec": {
   "display_name": "base",
   "language": "python",
   "name": "python3"
  },
  "language_info": {
   "codemirror_mode": {
    "name": "ipython",
    "version": 3
   },
   "file_extension": ".py",
   "mimetype": "text/x-python",
   "name": "python",
   "nbconvert_exporter": "python",
   "pygments_lexer": "ipython3",
   "version": "3.11.5"
  }
 },
 "nbformat": 4,
 "nbformat_minor": 5
}
